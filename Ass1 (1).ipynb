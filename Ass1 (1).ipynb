{
 "cells": [
  {
   "cell_type": "code",
   "execution_count": 3,
   "metadata": {},
   "outputs": [
    {
     "name": "stdout",
     "output_type": "stream",
     "text": [
      "WE, THE PEOPLE OF INDIA,\n",
      "having solemnly resolved to constitute India into a SOVEREIGN, !\n",
      "SOCIALIST, SECULAR, DEMOCRATIC REPUBLIC\n",
      "and to secure to all its citizens\n"
     ]
    }
   ],
   "source": [
    "print(\"WE, THE PEOPLE OF INDIA,\")\n",
    "print(\"having solemnly resolved to constitute India into a SOVEREIGN, !\")\n",
    "print(\"SOCIALIST, SECULAR, DEMOCRATIC REPUBLIC\")\n",
    "print(\"and to secure to all its citizens\")\n"
   ]
  },
  {
   "cell_type": "markdown",
   "metadata": {},
   "source": [
    "# Input word: AcadGild\n",
    "Output: dilGdacA"
   ]
  },
  {
   "cell_type": "code",
   "execution_count": 6,
   "metadata": {},
   "outputs": [
    {
     "name": "stdout",
     "output_type": "stream",
     "text": [
      "Enter a word: AcadGild\n",
      "dliGdacA \n"
     ]
    }
   ],
   "source": [
    "a=input(\"Enter a word:\")[::-1]\n",
    "a\n",
    "print(a)"
   ]
  },
  {
   "cell_type": "markdown",
   "metadata": {},
   "source": [
    "Write a program which will find all such numbers which are divisible by 7 but are not a multiple\n",
    "of 5, between 2000 and 3200 (both included). The numbers obtained should be printed in a\n",
    "comma-separated sequence on a single line\n"
   ]
  },
  {
   "cell_type": "code",
   "execution_count": 10,
   "metadata": {},
   "outputs": [
    {
     "name": "stdout",
     "output_type": "stream",
     "text": [
      "2031\n",
      "2066\n",
      "2101\n",
      "2136\n",
      "2171\n",
      "2206\n",
      "2241\n",
      "2276\n",
      "2311\n",
      "2346\n",
      "2381\n",
      "2416\n",
      "2451\n",
      "2486\n",
      "2521\n",
      "2556\n",
      "2591\n",
      "2626\n",
      "2661\n",
      "2696\n",
      "2731\n",
      "2766\n",
      "2801\n",
      "2836\n",
      "2871\n",
      "2906\n",
      "2941\n",
      "2976\n",
      "3011\n",
      "3046\n",
      "3081\n",
      "3116\n",
      "3151\n",
      "3186\n"
     ]
    }
   ],
   "source": [
    "for i in range(2000,3200):\n",
    "     if i%7==0 and i%5==0:\n",
    "            i=i+1\n",
    "            print(i)"
   ]
  },
  {
   "cell_type": "markdown",
   "metadata": {},
   "source": [
    "# Write a Python program to find the volume of a sphere with diameter 12 cm.\n",
    "Formula: V=4/3 * π * r\n"
   ]
  },
  {
   "cell_type": "code",
   "execution_count": 12,
   "metadata": {},
   "outputs": [
    {
     "name": "stdout",
     "output_type": "stream",
     "text": [
      "2144.9386666666664\n"
     ]
    }
   ],
   "source": [
    "pi=3.142\n",
    "r=8\n",
    "V=4/3 * 3.142 *8 *8 *8\n",
    "print(V)"
   ]
  },
  {
   "cell_type": "markdown",
   "metadata": {},
   "source": [
    "'''\n",
    "3. Write a Python program to accept the user's first and\n",
    "last name and then getting them printed in the the reverse order with\n",
    "a space between first name and last name.\n",
    "'''"
   ]
  },
  {
   "cell_type": "code",
   "execution_count": 4,
   "metadata": {},
   "outputs": [
    {
     "name": "stdout",
     "output_type": "stream",
     "text": [
      "Enter your first name:bhutada\n",
      "Enter your last namekrishna\n",
      "Hello  krishna bhutada\n"
     ]
    }
   ],
   "source": [
    "a=input(\"Enter your first name:\")\n",
    "b=input(\"Enter your last name\")\n",
    "\n",
    "print (\"Hello  \" + b + \" \" + a)\n"
   ]
  },
  {
   "cell_type": "markdown",
   "metadata": {},
   "source": [
    "2. Create the below pattern using nested for loop in Python.\n",
    "\n",
    "'''"
   ]
  },
  {
   "cell_type": "code",
   "execution_count": null,
   "metadata": {},
   "outputs": [],
   "source": []
  }
 ],
 "metadata": {
  "kernelspec": {
   "display_name": "Python 3",
   "language": "python",
   "name": "python3"
  },
  "language_info": {
   "codemirror_mode": {
    "name": "ipython",
    "version": 3
   },
   "file_extension": ".py",
   "mimetype": "text/x-python",
   "name": "python",
   "nbconvert_exporter": "python",
   "pygments_lexer": "ipython3",
   "version": "3.8.5"
  }
 },
 "nbformat": 4,
 "nbformat_minor": 4
}
